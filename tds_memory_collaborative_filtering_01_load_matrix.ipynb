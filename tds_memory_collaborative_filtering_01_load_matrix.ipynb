{
  "nbformat": 4,
  "nbformat_minor": 0,
  "metadata": {
    "colab": {
      "provenance": [],
      "gpuType": "T4",
      "authorship_tag": "ABX9TyM8+dROgGnP2+Z/XMxHeV20",
      "include_colab_link": true
    },
    "kernelspec": {
      "name": "python3",
      "display_name": "Python 3"
    },
    "language_info": {
      "name": "python"
    }
  },
  "cells": [
    {
      "cell_type": "markdown",
      "metadata": {
        "id": "view-in-github",
        "colab_type": "text"
      },
      "source": [
        "<a href=\"https://colab.research.google.com/github/the-datastrategist/colab-notebooks/blob/main/tds_memory_collaborative_filtering_01_load_matrix.ipynb\" target=\"_parent\"><img src=\"https://colab.research.google.com/assets/colab-badge.svg\" alt=\"Open In Colab\"/></a>"
      ]
    },
    {
      "cell_type": "markdown",
      "source": [
        "# Memory-Based Collaborative Filtering\n",
        "\n",
        "In this notebook, I'm build a memory-based collaborative filtering model. We're taking data from 25M movie ratings.\n",
        "\n",
        "__Resources__\n",
        "- [Towards Data Science: How Collaborative Filtering Works](https://towardsdatascience.com/how-does-collaborative-filtering-work-da56ea94e331)\n",
        "- [IMDB Non-Commercial Datasets](https://developer.imdb.com/non-commercial-datasets/)\n",
        "- [GCS: butterstick2023](https://console.cloud.google.com/storage/browser/butterstick2023/ml-25m;tab=objects?project=the-data-strategist&prefix=&forceOnObjectsSortingFiltering=false)"
      ],
      "metadata": {
        "id": "qkYAdWIJeI3k"
      }
    },
    {
      "cell_type": "markdown",
      "source": [
        "## Project Setup"
      ],
      "metadata": {
        "id": "NowcK1iIQju6"
      }
    },
    {
      "cell_type": "code",
      "execution_count": null,
      "metadata": {
        "id": "pWaWbARpNkua"
      },
      "outputs": [],
      "source": [
        "# Provide your credentials to the runtime\n",
        "from google.colab import auth\n",
        "auth.authenticate_user()"
      ]
    },
    {
      "cell_type": "code",
      "source": [
        "# Import commonly-used libraries\n",
        "import pandas as pd\n",
        "from datetime import datetime as dt\n",
        "import numpy as np\n",
        "from sklearn.metrics.pairwise import cosine_similarity\n",
        "from scipy.sparse import csr_matrix\n",
        "import random\n",
        "from google.cloud import storage\n",
        "import json\n",
        "\n",
        "\n",
        "# Declare global variables\n",
        "GOOGLE_PROJECT_ID = 'the-data-strategist'\n",
        "OBJECTIVE_METRIC = 'rating'\n",
        "USER_VARIABLE = 'userId'\n",
        "PRODUCT_VARIABLE = 'movieId'\n",
        "N_MOVIES = 1_000\n",
        "N_USERS = 100"
      ],
      "metadata": {
        "id": "IhhNZlWjPBMn"
      },
      "execution_count": null,
      "outputs": []
    },
    {
      "cell_type": "markdown",
      "source": [
        "## Data Import"
      ],
      "metadata": {
        "id": "3ih7mr0SQq2a"
      }
    },
    {
      "cell_type": "code",
      "source": [
        "def import_ratings(ratings_filename='gs://butterstick2023/ml-25m/ratings.csv'):\n",
        "    \"\"\"Import ratings data and make transformations.\n",
        "    \"\"\"\n",
        "    # Import ratings dataset\n",
        "    df_ratings = pd.read_csv(ratings_filename)\n",
        "\n",
        "    # Convert timestamp to a datetime\n",
        "    df_ratings['date_time'] = pd.to_datetime(df_ratings['timestamp'], unit='s')\n",
        "    df_ratings.head()\n",
        "\n",
        "    # Get each user's average rating\n",
        "    # Will weight individual ratings by the average rating\n",
        "    df_user_avg_rating = df_ratings.groupby('userId')['rating'].mean()\n",
        "    df_user_avg_rating = df_user_avg_rating.to_frame().reset_index()\n",
        "    df_user_avg_rating.columns = ['userId', 'avg_rating']\n",
        "\n",
        "    # Join back to df_ratings\n",
        "    df_ratings = df_ratings.join(df_user_avg_rating, on='userId', rsuffix='_')\n",
        "    df_ratings['wt_rating'] = df_ratings['rating'] / df_ratings['avg_rating']\n",
        "    df_ratings['liked'] = [True if r > ar else False for r, ar in zip(df_ratings['rating'], df_ratings['avg_rating'])]\n",
        "\n",
        "    return df_ratings\n"
      ],
      "metadata": {
        "id": "Go2dPa24Xt_V"
      },
      "execution_count": null,
      "outputs": []
    },
    {
      "cell_type": "code",
      "source": [
        "def get_sample_df(df, n_movie_sample = N_MOVIES, n_user_sample = N_USERS):\n",
        "    \"\"\"Get a sample of df_ratings based on a certain number of userIds\n",
        "    and movieIds.\n",
        "    \"\"\"\n",
        "    n_movies = n_movie_sample or df['movieId'].nunique()\n",
        "    n_users = n_user_sample or df['userId'].nunique()\n",
        "\n",
        "    movie_sample_list = random.sample(list(set(df['movieId'])), n_movies)\n",
        "    user_sample_list = random.sample(list(set(df['userId'])), n_users)\n",
        "    df_sample = df[\n",
        "        (df['userId'].isin(user_sample_list)) & (df['movieId'].isin(movie_sample_list))]\n",
        "    return df_sample"
      ],
      "metadata": {
        "id": "Vc3lxmfB1n2T"
      },
      "execution_count": null,
      "outputs": []
    },
    {
      "cell_type": "code",
      "source": [
        "def get_user_item_matrix(\n",
        "    df_ratings,\n",
        "    user_variable=USER_VARIABLE,\n",
        "    product_variable=PRODUCT_VARIABLE\n",
        "    ):\n",
        "    # Get user-item matrix\n",
        "    user_item_matrix = df_ratings.pivot(\n",
        "        index=USER_VARIABLE,\n",
        "        columns=PRODUCT_VARIABLE,\n",
        "        values=OBJECTIVE_METRIC\n",
        "        ).fillna(0)\n",
        "    return user_item_matrix\n",
        "\n",
        "def get_item_similarity_matrix(df_ratings):\n",
        "    user_item_matrix = get_user_item_matrix(df_ratings)\n",
        "    item_sim_matrix = cosine_similarity(csr_matrix(user_item_matrix.T))\n",
        "    return item_sim_matrix\n",
        "\n",
        "def get_user_similarity_matrix(df_ratings):\n",
        "    user_item_matrix = get_user_item_matrix(df_ratings)\n",
        "    user_sim_matrix = cosine_similarity(csr_matrix(user_item_matrix))\n",
        "    return user_sim_matrix\n"
      ],
      "metadata": {
        "id": "JUfkL3ohWLFc"
      },
      "execution_count": null,
      "outputs": []
    },
    {
      "cell_type": "code",
      "source": [
        "def read_json_data(data, index_name='userId', column_name='movieId'):\n",
        "    df = pd.read_json(data)\n",
        "    df.index.name = index_name\n",
        "    df.columns.name = column_name\n",
        "    return df\n",
        "\n",
        "def load_json_to_gcs(\n",
        "    json_data,\n",
        "    bucket_name,\n",
        "    blob_name\n",
        "):\n",
        "    # Initialize the client\n",
        "    client = storage.Client()\n",
        "    bucket = client.get_bucket(bucket_name)\n",
        "\n",
        "    # Name of the object in the bucket\n",
        "    blob = bucket.blob(blob_name)\n",
        "\n",
        "    # Save the JSON string to the file in the bucket\n",
        "    blob.upload_from_string(json_data, content_type='application/json')\n",
        "\n",
        "    print(f\"File {blob_name} uploaded to {bucket_name}.\")\n",
        "\n"
      ],
      "metadata": {
        "id": "1bxXyr-lFNnz"
      },
      "execution_count": null,
      "outputs": []
    },
    {
      "cell_type": "markdown",
      "source": [
        "## Load similarity matrices\n",
        "\n",
        "Generate the following matrices and load to Google Storage:\n",
        "- user_item_metrix\n",
        "- item_similarity_matrix\n",
        "- user_similarity_matrix"
      ],
      "metadata": {
        "id": "GEvo9L5BFQuB"
      }
    },
    {
      "cell_type": "code",
      "source": [
        "# Get all ratings\n",
        "df_ratings = import_ratings()\n",
        "\n",
        "df_ratings.agg({\n",
        "    'userId': 'nunique',\n",
        "    'movieId': 'nunique'\n",
        "})"
      ],
      "metadata": {
        "id": "kbfbCr-hUrgp",
        "colab": {
          "base_uri": "https://localhost:8080/"
        },
        "outputId": "8c18f5fd-b696-4dc4-dc83-2b9923eae6a8"
      },
      "execution_count": null,
      "outputs": [
        {
          "output_type": "execute_result",
          "data": {
            "text/plain": [
              "userId     162541\n",
              "movieId     59047\n",
              "dtype: int64"
            ]
          },
          "metadata": {},
          "execution_count": 7
        }
      ]
    },
    {
      "cell_type": "code",
      "source": [
        "# Get sample of ratings\n",
        "df_ratings_sample = get_sample_df(\n",
        "    df_ratings,\n",
        "    n_movie_sample = None,\n",
        "    n_user_sample = 5_000\n",
        "    )\n",
        "del df_ratings\n",
        "df_ratings_sample.head()"
      ],
      "metadata": {
        "colab": {
          "base_uri": "https://localhost:8080/",
          "height": 206
        },
        "id": "mn0QFw66FNin",
        "outputId": "f6e70c75-6e50-4087-fa8a-5baec571217b"
      },
      "execution_count": null,
      "outputs": [
        {
          "output_type": "execute_result",
          "data": {
            "text/plain": [
              "      userId  movieId  rating  timestamp           date_time  userId_  \\\n",
              "4386      27      110     3.0  974256534 2000-11-15 02:48:54     28.0   \n",
              "4387      27      260     2.0  974513448 2000-11-18 02:10:48     28.0   \n",
              "4388      27      356     5.0  974257923 2000-11-15 03:12:03     28.0   \n",
              "4389      27      408     5.0  974256887 2000-11-15 02:54:47     28.0   \n",
              "4390      27      527     4.0  974256577 2000-11-15 02:49:37     28.0   \n",
              "\n",
              "      avg_rating  wt_rating  liked  \n",
              "4386    4.693878   0.639130  False  \n",
              "4387    4.693878   0.426087  False  \n",
              "4388    4.693878   1.065217   True  \n",
              "4389    4.693878   1.065217   True  \n",
              "4390    4.693878   0.852174  False  "
            ],
            "text/html": [
              "\n",
              "  <div id=\"df-5d9980f1-53b2-49d1-8b16-3ec69d032afd\" class=\"colab-df-container\">\n",
              "    <div>\n",
              "<style scoped>\n",
              "    .dataframe tbody tr th:only-of-type {\n",
              "        vertical-align: middle;\n",
              "    }\n",
              "\n",
              "    .dataframe tbody tr th {\n",
              "        vertical-align: top;\n",
              "    }\n",
              "\n",
              "    .dataframe thead th {\n",
              "        text-align: right;\n",
              "    }\n",
              "</style>\n",
              "<table border=\"1\" class=\"dataframe\">\n",
              "  <thead>\n",
              "    <tr style=\"text-align: right;\">\n",
              "      <th></th>\n",
              "      <th>userId</th>\n",
              "      <th>movieId</th>\n",
              "      <th>rating</th>\n",
              "      <th>timestamp</th>\n",
              "      <th>date_time</th>\n",
              "      <th>userId_</th>\n",
              "      <th>avg_rating</th>\n",
              "      <th>wt_rating</th>\n",
              "      <th>liked</th>\n",
              "    </tr>\n",
              "  </thead>\n",
              "  <tbody>\n",
              "    <tr>\n",
              "      <th>4386</th>\n",
              "      <td>27</td>\n",
              "      <td>110</td>\n",
              "      <td>3.0</td>\n",
              "      <td>974256534</td>\n",
              "      <td>2000-11-15 02:48:54</td>\n",
              "      <td>28.0</td>\n",
              "      <td>4.693878</td>\n",
              "      <td>0.639130</td>\n",
              "      <td>False</td>\n",
              "    </tr>\n",
              "    <tr>\n",
              "      <th>4387</th>\n",
              "      <td>27</td>\n",
              "      <td>260</td>\n",
              "      <td>2.0</td>\n",
              "      <td>974513448</td>\n",
              "      <td>2000-11-18 02:10:48</td>\n",
              "      <td>28.0</td>\n",
              "      <td>4.693878</td>\n",
              "      <td>0.426087</td>\n",
              "      <td>False</td>\n",
              "    </tr>\n",
              "    <tr>\n",
              "      <th>4388</th>\n",
              "      <td>27</td>\n",
              "      <td>356</td>\n",
              "      <td>5.0</td>\n",
              "      <td>974257923</td>\n",
              "      <td>2000-11-15 03:12:03</td>\n",
              "      <td>28.0</td>\n",
              "      <td>4.693878</td>\n",
              "      <td>1.065217</td>\n",
              "      <td>True</td>\n",
              "    </tr>\n",
              "    <tr>\n",
              "      <th>4389</th>\n",
              "      <td>27</td>\n",
              "      <td>408</td>\n",
              "      <td>5.0</td>\n",
              "      <td>974256887</td>\n",
              "      <td>2000-11-15 02:54:47</td>\n",
              "      <td>28.0</td>\n",
              "      <td>4.693878</td>\n",
              "      <td>1.065217</td>\n",
              "      <td>True</td>\n",
              "    </tr>\n",
              "    <tr>\n",
              "      <th>4390</th>\n",
              "      <td>27</td>\n",
              "      <td>527</td>\n",
              "      <td>4.0</td>\n",
              "      <td>974256577</td>\n",
              "      <td>2000-11-15 02:49:37</td>\n",
              "      <td>28.0</td>\n",
              "      <td>4.693878</td>\n",
              "      <td>0.852174</td>\n",
              "      <td>False</td>\n",
              "    </tr>\n",
              "  </tbody>\n",
              "</table>\n",
              "</div>\n",
              "    <div class=\"colab-df-buttons\">\n",
              "\n",
              "  <div class=\"colab-df-container\">\n",
              "    <button class=\"colab-df-convert\" onclick=\"convertToInteractive('df-5d9980f1-53b2-49d1-8b16-3ec69d032afd')\"\n",
              "            title=\"Convert this dataframe to an interactive table.\"\n",
              "            style=\"display:none;\">\n",
              "\n",
              "  <svg xmlns=\"http://www.w3.org/2000/svg\" height=\"24px\" viewBox=\"0 -960 960 960\">\n",
              "    <path d=\"M120-120v-720h720v720H120Zm60-500h600v-160H180v160Zm220 220h160v-160H400v160Zm0 220h160v-160H400v160ZM180-400h160v-160H180v160Zm440 0h160v-160H620v160ZM180-180h160v-160H180v160Zm440 0h160v-160H620v160Z\"/>\n",
              "  </svg>\n",
              "    </button>\n",
              "\n",
              "  <style>\n",
              "    .colab-df-container {\n",
              "      display:flex;\n",
              "      gap: 12px;\n",
              "    }\n",
              "\n",
              "    .colab-df-convert {\n",
              "      background-color: #E8F0FE;\n",
              "      border: none;\n",
              "      border-radius: 50%;\n",
              "      cursor: pointer;\n",
              "      display: none;\n",
              "      fill: #1967D2;\n",
              "      height: 32px;\n",
              "      padding: 0 0 0 0;\n",
              "      width: 32px;\n",
              "    }\n",
              "\n",
              "    .colab-df-convert:hover {\n",
              "      background-color: #E2EBFA;\n",
              "      box-shadow: 0px 1px 2px rgba(60, 64, 67, 0.3), 0px 1px 3px 1px rgba(60, 64, 67, 0.15);\n",
              "      fill: #174EA6;\n",
              "    }\n",
              "\n",
              "    .colab-df-buttons div {\n",
              "      margin-bottom: 4px;\n",
              "    }\n",
              "\n",
              "    [theme=dark] .colab-df-convert {\n",
              "      background-color: #3B4455;\n",
              "      fill: #D2E3FC;\n",
              "    }\n",
              "\n",
              "    [theme=dark] .colab-df-convert:hover {\n",
              "      background-color: #434B5C;\n",
              "      box-shadow: 0px 1px 3px 1px rgba(0, 0, 0, 0.15);\n",
              "      filter: drop-shadow(0px 1px 2px rgba(0, 0, 0, 0.3));\n",
              "      fill: #FFFFFF;\n",
              "    }\n",
              "  </style>\n",
              "\n",
              "    <script>\n",
              "      const buttonEl =\n",
              "        document.querySelector('#df-5d9980f1-53b2-49d1-8b16-3ec69d032afd button.colab-df-convert');\n",
              "      buttonEl.style.display =\n",
              "        google.colab.kernel.accessAllowed ? 'block' : 'none';\n",
              "\n",
              "      async function convertToInteractive(key) {\n",
              "        const element = document.querySelector('#df-5d9980f1-53b2-49d1-8b16-3ec69d032afd');\n",
              "        const dataTable =\n",
              "          await google.colab.kernel.invokeFunction('convertToInteractive',\n",
              "                                                    [key], {});\n",
              "        if (!dataTable) return;\n",
              "\n",
              "        const docLinkHtml = 'Like what you see? Visit the ' +\n",
              "          '<a target=\"_blank\" href=https://colab.research.google.com/notebooks/data_table.ipynb>data table notebook</a>'\n",
              "          + ' to learn more about interactive tables.';\n",
              "        element.innerHTML = '';\n",
              "        dataTable['output_type'] = 'display_data';\n",
              "        await google.colab.output.renderOutput(dataTable, element);\n",
              "        const docLink = document.createElement('div');\n",
              "        docLink.innerHTML = docLinkHtml;\n",
              "        element.appendChild(docLink);\n",
              "      }\n",
              "    </script>\n",
              "  </div>\n",
              "\n",
              "\n",
              "<div id=\"df-8f29f31f-541f-4f4f-a4f5-25f96ab5b926\">\n",
              "  <button class=\"colab-df-quickchart\" onclick=\"quickchart('df-8f29f31f-541f-4f4f-a4f5-25f96ab5b926')\"\n",
              "            title=\"Suggest charts\"\n",
              "            style=\"display:none;\">\n",
              "\n",
              "<svg xmlns=\"http://www.w3.org/2000/svg\" height=\"24px\"viewBox=\"0 0 24 24\"\n",
              "     width=\"24px\">\n",
              "    <g>\n",
              "        <path d=\"M19 3H5c-1.1 0-2 .9-2 2v14c0 1.1.9 2 2 2h14c1.1 0 2-.9 2-2V5c0-1.1-.9-2-2-2zM9 17H7v-7h2v7zm4 0h-2V7h2v10zm4 0h-2v-4h2v4z\"/>\n",
              "    </g>\n",
              "</svg>\n",
              "  </button>\n",
              "\n",
              "<style>\n",
              "  .colab-df-quickchart {\n",
              "      --bg-color: #E8F0FE;\n",
              "      --fill-color: #1967D2;\n",
              "      --hover-bg-color: #E2EBFA;\n",
              "      --hover-fill-color: #174EA6;\n",
              "      --disabled-fill-color: #AAA;\n",
              "      --disabled-bg-color: #DDD;\n",
              "  }\n",
              "\n",
              "  [theme=dark] .colab-df-quickchart {\n",
              "      --bg-color: #3B4455;\n",
              "      --fill-color: #D2E3FC;\n",
              "      --hover-bg-color: #434B5C;\n",
              "      --hover-fill-color: #FFFFFF;\n",
              "      --disabled-bg-color: #3B4455;\n",
              "      --disabled-fill-color: #666;\n",
              "  }\n",
              "\n",
              "  .colab-df-quickchart {\n",
              "    background-color: var(--bg-color);\n",
              "    border: none;\n",
              "    border-radius: 50%;\n",
              "    cursor: pointer;\n",
              "    display: none;\n",
              "    fill: var(--fill-color);\n",
              "    height: 32px;\n",
              "    padding: 0;\n",
              "    width: 32px;\n",
              "  }\n",
              "\n",
              "  .colab-df-quickchart:hover {\n",
              "    background-color: var(--hover-bg-color);\n",
              "    box-shadow: 0 1px 2px rgba(60, 64, 67, 0.3), 0 1px 3px 1px rgba(60, 64, 67, 0.15);\n",
              "    fill: var(--button-hover-fill-color);\n",
              "  }\n",
              "\n",
              "  .colab-df-quickchart-complete:disabled,\n",
              "  .colab-df-quickchart-complete:disabled:hover {\n",
              "    background-color: var(--disabled-bg-color);\n",
              "    fill: var(--disabled-fill-color);\n",
              "    box-shadow: none;\n",
              "  }\n",
              "\n",
              "  .colab-df-spinner {\n",
              "    border: 2px solid var(--fill-color);\n",
              "    border-color: transparent;\n",
              "    border-bottom-color: var(--fill-color);\n",
              "    animation:\n",
              "      spin 1s steps(1) infinite;\n",
              "  }\n",
              "\n",
              "  @keyframes spin {\n",
              "    0% {\n",
              "      border-color: transparent;\n",
              "      border-bottom-color: var(--fill-color);\n",
              "      border-left-color: var(--fill-color);\n",
              "    }\n",
              "    20% {\n",
              "      border-color: transparent;\n",
              "      border-left-color: var(--fill-color);\n",
              "      border-top-color: var(--fill-color);\n",
              "    }\n",
              "    30% {\n",
              "      border-color: transparent;\n",
              "      border-left-color: var(--fill-color);\n",
              "      border-top-color: var(--fill-color);\n",
              "      border-right-color: var(--fill-color);\n",
              "    }\n",
              "    40% {\n",
              "      border-color: transparent;\n",
              "      border-right-color: var(--fill-color);\n",
              "      border-top-color: var(--fill-color);\n",
              "    }\n",
              "    60% {\n",
              "      border-color: transparent;\n",
              "      border-right-color: var(--fill-color);\n",
              "    }\n",
              "    80% {\n",
              "      border-color: transparent;\n",
              "      border-right-color: var(--fill-color);\n",
              "      border-bottom-color: var(--fill-color);\n",
              "    }\n",
              "    90% {\n",
              "      border-color: transparent;\n",
              "      border-bottom-color: var(--fill-color);\n",
              "    }\n",
              "  }\n",
              "</style>\n",
              "\n",
              "  <script>\n",
              "    async function quickchart(key) {\n",
              "      const quickchartButtonEl =\n",
              "        document.querySelector('#' + key + ' button');\n",
              "      quickchartButtonEl.disabled = true;  // To prevent multiple clicks.\n",
              "      quickchartButtonEl.classList.add('colab-df-spinner');\n",
              "      try {\n",
              "        const charts = await google.colab.kernel.invokeFunction(\n",
              "            'suggestCharts', [key], {});\n",
              "      } catch (error) {\n",
              "        console.error('Error during call to suggestCharts:', error);\n",
              "      }\n",
              "      quickchartButtonEl.classList.remove('colab-df-spinner');\n",
              "      quickchartButtonEl.classList.add('colab-df-quickchart-complete');\n",
              "    }\n",
              "    (() => {\n",
              "      let quickchartButtonEl =\n",
              "        document.querySelector('#df-8f29f31f-541f-4f4f-a4f5-25f96ab5b926 button');\n",
              "      quickchartButtonEl.style.display =\n",
              "        google.colab.kernel.accessAllowed ? 'block' : 'none';\n",
              "    })();\n",
              "  </script>\n",
              "</div>\n",
              "    </div>\n",
              "  </div>\n"
            ]
          },
          "metadata": {},
          "execution_count": 8
        }
      ]
    },
    {
      "cell_type": "code",
      "source": [
        "df_ratings_sample.agg({\n",
        "    'userId': 'nunique',\n",
        "    'movieId': 'nunique'\n",
        "})"
      ],
      "metadata": {
        "colab": {
          "base_uri": "https://localhost:8080/"
        },
        "id": "bu1FizS5XCcw",
        "outputId": "d57b11f1-206e-4dff-e36a-d82a7dfa1e75"
      },
      "execution_count": null,
      "outputs": [
        {
          "output_type": "execute_result",
          "data": {
            "text/plain": [
              "userId      5000\n",
              "movieId    20208\n",
              "dtype: int64"
            ]
          },
          "metadata": {},
          "execution_count": 9
        }
      ]
    },
    {
      "cell_type": "markdown",
      "source": [
        "### Get user-item matrix"
      ],
      "metadata": {
        "id": "9OE_DpysmMV6"
      }
    },
    {
      "cell_type": "code",
      "source": [
        "# Get User-Item Maxtrix\n",
        "user_item_matrix = get_user_item_matrix(df_ratings_sample)\n",
        "user_item_matrix_json = user_item_matrix.to_json()\n",
        "user_item_matrix_json"
      ],
      "metadata": {
        "id": "PBcHBlDoFNa0"
      },
      "execution_count": null,
      "outputs": []
    },
    {
      "cell_type": "code",
      "source": [
        "load_json_to_gcs(\n",
        "    user_item_matrix_json,\n",
        "    bucket_name = 'butterstick2023',\n",
        "    blob_name = 'recommendation_system/user_item_matrix_json.json'\n",
        ")\n"
      ],
      "metadata": {
        "id": "G86baL6LFNF-"
      },
      "execution_count": null,
      "outputs": []
    },
    {
      "cell_type": "markdown",
      "source": [
        "### Get similarity matrices"
      ],
      "metadata": {
        "id": "M4sTlffFv7xG"
      }
    },
    {
      "cell_type": "code",
      "source": [
        "# G\n",
        "item_sim_matrix = get_item_similarity_matrix(df_ratings)\n",
        "item_sim_matrix_json = item_sim_matrix.to_json()\n",
        "item_sim_matrix_json"
      ],
      "metadata": {
        "id": "LzDmqAbFIkQL"
      },
      "execution_count": null,
      "outputs": []
    },
    {
      "cell_type": "code",
      "source": [
        "load_json_to_gcs(\n",
        "    item_sim_matrix_json,\n",
        "    bucket_name = 'butterstick2023',\n",
        "    blob_name = 'recommendation_system/item_sim_matrix_json.json'\n",
        ")\n"
      ],
      "metadata": {
        "id": "blNGsQjswFtk"
      },
      "execution_count": null,
      "outputs": []
    },
    {
      "cell_type": "markdown",
      "source": [
        "## Get Recommendations"
      ],
      "metadata": {
        "id": "JeOS0vCRFnHl"
      }
    },
    {
      "cell_type": "code",
      "source": [
        "# Generating Recommendations\n",
        "def recommend_movies(movie_id, item_similarity, matrix, k=5):\n",
        "    # Find the movie index from the user-item matrix\n",
        "    movie_idx = list(matrix.columns).index(movie_id)\n",
        "    # Get movie similarities\n",
        "    movie_similarities = item_similarity[movie_idx]\n",
        "    # Get top k most similar movie indices\n",
        "    similar_movie_idxs = np.argsort(-movie_similarities)[1:k+1]\n",
        "    # Get the movie IDs\n",
        "    similar_movies = matrix.columns[similar_movie_idxs]\n",
        "    return similar_movies\n"
      ],
      "metadata": {
        "id": "k-nX45b_g8mX"
      },
      "execution_count": null,
      "outputs": []
    },
    {
      "cell_type": "code",
      "source": [
        "recommendations = recommend_movies(\n",
        "    movie_id=5,\n",
        "    item_similarity=item_sim_matrix,\n",
        "    matrix=user_item_matrix,\n",
        "    k=10\n",
        "    )\n"
      ],
      "metadata": {
        "id": "GQQ3L-s2hbqZ"
      },
      "execution_count": null,
      "outputs": []
    },
    {
      "cell_type": "code",
      "source": [],
      "metadata": {
        "id": "iEdm-r1_-Dry"
      },
      "execution_count": null,
      "outputs": []
    },
    {
      "cell_type": "code",
      "source": [
        "recommendations"
      ],
      "metadata": {
        "id": "uyJmEhU3iaxB",
        "colab": {
          "base_uri": "https://localhost:8080/"
        },
        "outputId": "0c770c0e-02be-4476-9ed9-a9c0ba6203e7"
      },
      "execution_count": null,
      "outputs": [
        {
          "output_type": "execute_result",
          "data": {
            "text/plain": [
              "Int64Index([1680, 830, 628, 3591, 2581, 275, 719, 224, 1541, 3705], dtype='int64', name='movieId')"
            ]
          },
          "metadata": {},
          "execution_count": 68
        }
      ]
    },
    {
      "cell_type": "code",
      "source": [
        "def predict_ratings(similarity_matrix, matrix):\n",
        "    ratings_pred = similarity_matrix.dot(matrix) / np.array([np.abs(similarity_matrix).sum(axis=1)]).T\n",
        "    return ratings_pred\n"
      ],
      "metadata": {
        "id": "uPjAEIsp1EjG"
      },
      "execution_count": null,
      "outputs": []
    },
    {
      "cell_type": "code",
      "source": [
        "user_rating_predictions = predict_ratings(\n",
        "    similarity_matrix=user_sim_matrix,\n",
        "    matrix=user_item_matrix\n",
        "    )"
      ],
      "metadata": {
        "id": "M5S08lar1ccG"
      },
      "execution_count": null,
      "outputs": []
    },
    {
      "cell_type": "code",
      "source": [
        "# user_rating_predictions\n",
        "\n",
        "len(user_sim_matrix[0])\n",
        "\n",
        "len(user_sim_matrix)\n"
      ],
      "metadata": {
        "colab": {
          "base_uri": "https://localhost:8080/"
        },
        "id": "-gSxmfCK9Cpv",
        "outputId": "34d31da8-900b-4ed8-91f4-be9cd4dc30b2"
      },
      "execution_count": null,
      "outputs": [
        {
          "output_type": "execute_result",
          "data": {
            "text/plain": [
              "100"
            ]
          },
          "metadata": {},
          "execution_count": 83
        }
      ]
    },
    {
      "cell_type": "code",
      "source": [],
      "metadata": {
        "id": "4kGGO33V9QFL"
      },
      "execution_count": null,
      "outputs": []
    }
  ]
}